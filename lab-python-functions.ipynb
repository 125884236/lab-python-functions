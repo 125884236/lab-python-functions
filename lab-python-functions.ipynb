{
 "cells": [
  {
   "cell_type": "markdown",
   "id": "25d7736c-ba17-4aff-b6bb-66eba20fbf4e",
   "metadata": {},
   "source": [
    "# Lab | Functions"
   ]
  },
  {
   "cell_type": "markdown",
   "id": "0c581062-8967-4d93-b06e-62833222f930",
   "metadata": {
    "tags": []
   },
   "source": [
    "## Exercise: Managing Customer Orders with Functions\n",
    "\n",
    "In the previous exercise, you improved the code for managing customer orders by using loops and flow control. Now, let's take it a step further and refactor the code by introducing functions.\n",
    "\n",
    "Follow the steps below to complete the exercise:\n",
    "\n",
    "1. Define a function named `initialize_inventory` that takes `products` as a parameter. Inside the function, implement the code for initializing the inventory dictionary using a loop and user input.\n",
    "\n",
    "2. Define a function named `get_customer_orders` that takes no parameters. Inside the function, implement the code for prompting the user to enter the product names using a loop. The function should return the `customer_orders` set.\n",
    "\n",
    "3. Define a function named `update_inventory` that takes `customer_orders` and `inventory` as parameters. Inside the function, implement the code for updating the inventory dictionary based on the customer orders.\n",
    "\n",
    "4. Define a function named `calculate_order_statistics` that takes `customer_orders` and `products` as parameters. Inside the function, implement the code for calculating the order statistics (total products ordered, and percentage of unique products ordered). The function should return these values.\n",
    "\n",
    "5. Define a function named `print_order_statistics` that takes `order_statistics` as a parameter. Inside the function, implement the code for printing the order statistics.\n",
    "\n",
    "6. Define a function named `print_updated_inventory` that takes `inventory` as a parameter. Inside the function, implement the code for printing the updated inventory.\n",
    "\n",
    "7. Call the functions in the appropriate sequence to execute the program and manage customer orders.\n",
    "\n",
    "Hints for functions:\n",
    "\n",
    "- Consider the input parameters required for each function and their return values.\n",
    "- Utilize function parameters and return values to transfer data between functions.\n",
    "- Test your functions individually to ensure they work correctly.\n",
    "\n",
    "\n"
   ]
  },
  {
   "cell_type": "code",
   "execution_count": 2,
   "id": "b7031d59",
   "metadata": {},
   "outputs": [],
   "source": [
    "#Define a function named `initialize_inventory` that takes `products` as a parameter. Inside the function, implement the code for initializing the inventory dictionary using a loop and user input.\n",
    "\n",
    "def initialize_inventory(products):\n",
    "    inventory = {}\n",
    "    for item in products:\n",
    "        stock = (input(f\"Please, enter the quantity of {item} that are in stock: \")).strip()\n",
    "        inventory[item] = stock\n",
    "    return inventory"
   ]
  },
  {
   "cell_type": "code",
   "execution_count": 3,
   "id": "c5445f97",
   "metadata": {},
   "outputs": [],
   "source": [
    "#Define a function named `get_customer_orders` that takes no parameters. Inside the function, implement the code for prompting the user to enter the product names using a loop.\n",
    "#The function should return the `customer_orders` set.\n",
    "\n",
    "def get_customer_orders():\n",
    "    customer_orders = set()\n",
    "    while True:\n",
    "        user_input_1 = (input(\"Type the product or 'end' to finish your order: \"))\n",
    "        if user_input_1.lower().strip() == \"end\":\n",
    "            break\n",
    "        customer_orders.add(user_input_1)\n",
    "    return customer_orders"
   ]
  },
  {
   "cell_type": "code",
   "execution_count": 5,
   "id": "7d60f916",
   "metadata": {},
   "outputs": [],
   "source": [
    "#Define a function named `update_inventory` that takes `customer_orders` and `inventory` as parameters.\n",
    "#Inside the function, implement the code for updating the inventory dictionary based on the customer orders.\n",
    "\n",
    "def update_inventory(customer_orders, inventory):\n",
    "    for product, stock in inventory.items():\n",
    "        if product in list(customer_orders):\n",
    "            stock = int(stock)\n",
    "            stock -= 1\n",
    "    print(product, stock)"
   ]
  },
  {
   "cell_type": "code",
   "execution_count": 6,
   "id": "f9dff3e8",
   "metadata": {},
   "outputs": [],
   "source": [
    "#Define a function named `calculate_order_statistics` that takes `customer_orders` and `products` as parameters.\n",
    "#Inside the function, implement the code for calculating the order statistics (total products ordered, and percentage of unique products ordered). The function should return these values.\n",
    "\n",
    "def print_order_statistics(customer_orders, products):\n",
    "    total_products_ordered = len(customer_orders)\n",
    "    total_products_inventory = len(inventory)\n",
    "    percentage_ordered = int((total_products_ordered / total_products_inventory) * 100)\n",
    "    print(f\"\"\"Order Statistics:\n",
    "    Total Products Ordered: {total_products_ordered}\n",
    "    Percentage of Products Ordered: {percentage_ordered}%\n",
    "\"\"\")"
   ]
  },
  {
   "cell_type": "code",
   "execution_count": 7,
   "id": "d819a6f6",
   "metadata": {},
   "outputs": [],
   "source": [
    "#Define a function named `print_updated_inventory` that takes `inventory` as a parameter. Inside the function, implement the code for printing the updated inventory.\n",
    "\n",
    "def print_updated_inventory(inventory):\n",
    "    print(inventory)\n",
    "    "
   ]
  },
  {
   "cell_type": "code",
   "execution_count": 59,
   "id": "46556642",
   "metadata": {},
   "outputs": [],
   "source": [
    "#Call the functions in the appropriate sequence to execute the program and manage customer orders.\n",
    "\n",
    "#Productos disponibles\n",
    "products = [\"t-shirt\", \"mug\", \"hat\", \"book\", \"keychain\"]\n"
   ]
  },
  {
   "cell_type": "code",
   "execution_count": 60,
   "id": "e6331e0a",
   "metadata": {},
   "outputs": [],
   "source": [
    "#Se inicia el inventario\n",
    "inventory = initialize_inventory(products)"
   ]
  },
  {
   "cell_type": "code",
   "execution_count": 61,
   "id": "b5f9e01f",
   "metadata": {},
   "outputs": [],
   "source": [
    "#Obtener pedidos de clientes\n",
    "customer_orders = get_customer_orders()"
   ]
  },
  {
   "cell_type": "code",
   "execution_count": 62,
   "id": "1bbebe04",
   "metadata": {},
   "outputs": [
    {
     "name": "stdout",
     "output_type": "stream",
     "text": [
      "The are 598 of t-shirt left\n",
      "The are 11 of mug left\n",
      "The are 155 of hat left\n",
      "The are 455 of book left\n",
      "The are 456 of keychain left\n"
     ]
    }
   ],
   "source": [
    "#Actualizar el inventario\n",
    "update_inventory(customer_orders, inventory)"
   ]
  },
  {
   "cell_type": "code",
   "execution_count": 63,
   "id": "dcff2bab",
   "metadata": {},
   "outputs": [
    {
     "name": "stdout",
     "output_type": "stream",
     "text": [
      "Order Statistics:\n",
      "    Total Products Ordered: 3\n",
      "    Percentage of Products Ordered: 60%\n",
      "    \n"
     ]
    }
   ],
   "source": [
    "#Calcular estadísticas del pedido\n",
    "print_order_statistics(customer_orders)"
   ]
  },
  {
   "cell_type": "code",
   "execution_count": 64,
   "id": "23b81956",
   "metadata": {},
   "outputs": [
    {
     "name": "stdout",
     "output_type": "stream",
     "text": [
      "{'t-shirt': '598', 'mug': '12', 'hat': '156', 'book': '456', 'keychain': '456'}\n"
     ]
    }
   ],
   "source": [
    "#Imprimir el inventario actualizado\n",
    "print_updated_inventory(inventory)"
   ]
  }
 ],
 "metadata": {
  "kernelspec": {
   "display_name": "Python 3 (ipykernel)",
   "language": "python",
   "name": "python3"
  },
  "language_info": {
   "codemirror_mode": {
    "name": "ipython",
    "version": 3
   },
   "file_extension": ".py",
   "mimetype": "text/x-python",
   "name": "python",
   "nbconvert_exporter": "python",
   "pygments_lexer": "ipython3",
   "version": "3.11.5"
  }
 },
 "nbformat": 4,
 "nbformat_minor": 5
}
